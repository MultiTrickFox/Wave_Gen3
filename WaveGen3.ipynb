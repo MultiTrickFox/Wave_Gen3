{
  "nbformat": 4,
  "nbformat_minor": 0,
  "metadata": {
    "colab": {
      "name": "WaveGen3.ipynb",
      "provenance": [],
      "collapsed_sections": []
    },
    "kernelspec": {
      "display_name": "Python 3",
      "name": "python3"
    },
    "language_info": {
      "name": "python"
    },
    "accelerator": "GPU"
  },
  "cells": [
    {
      "cell_type": "code",
      "metadata": {
        "id": "TJLzLL7cncFz",
        "colab": {
          "base_uri": "https://localhost:8080/"
        },
        "outputId": "1b492ad1-add8-4249-d993-15d067b9a17e"
      },
      "source": [
        "from google.colab import drive\n",
        "drive.mount('/content/drive',force_remount=True)\n",
        "\n",
        "!\\cp \"drive/My Drive/WaveGen3/config.py\" .\n",
        "!\\cp \"drive/My Drive/WaveGen3/model.py\" .\n",
        "!\\cp \"drive/My Drive/WaveGen3/data.py\" .\n",
        "!\\cp \"drive/My Drive/WaveGen3/train.py\" .\n",
        "!\\cp \"drive/My Drive/WaveGen3/interact.py\" .\n",
        "!\\cp \"drive/My Drive/WaveGen3/ext.py\" .\n",
        "\n",
        "!pip uninstall -y torch                                                       &> /dev/null\n",
        "# !pip install -q torch==1.5.0+cu101 -f https://download.pytorch.org/whl/torch_stable.html\n",
        "!pip install \"drive/My Drive/torch-1.5.0+cu101-cp37-cp37m-linux_x86_64.whl\"   &> /dev/null\n",
        "# !pip show torch\n",
        "!pip install librosa --upgrade                                                &> /dev/null\n",
        "# !pip uninstall -y librosa                                                   &> /dev/null\n",
        "# !pip install librosa                                                        &> /dev/null\n",
        "# !pip show librosa"
      ],
      "execution_count": 1,
      "outputs": [
        {
          "output_type": "stream",
          "text": [
            "Mounted at /content/drive\n"
          ],
          "name": "stdout"
        }
      ]
    },
    {
      "cell_type": "code",
      "metadata": {
        "id": "JR4X9LPqKLVz"
      },
      "source": [
        "import config\n",
        "config.model_path      = 'drive/My Drive/WaveGen3/models/model'\n",
        "config.data_path       = 'drive/My Drive/WaveGen3/data'\n",
        "\n",
        "config.dev_ratio       = 0\n",
        "config.batch_size      = 0\n",
        "config.max_seq_len     = 0\n",
        "\n",
        "config.state_size      = 512\n",
        "config.hidden_sizes    = []\n",
        "config.hidden_acts     = 't'\n",
        "config.init_xavier     = True\n",
        "\n",
        "config.hm_epochs       = 100\n",
        "config.learning_rate   = 1e-3\n",
        "config.loss_squared    = True\n",
        "config.optimizer       = 'custom'\n",
        "config.gradient_clip   = 0\n",
        "\n",
        "config.fresh_model     = True\n",
        "config.fresh_meta      = True\n",
        "config.ckp_per_ep      = config.hm_epochs//10\n",
        "\n",
        "config.use_gpu         = True"
      ],
      "execution_count": 2,
      "outputs": []
    },
    {
      "cell_type": "code",
      "metadata": {
        "id": "x3mxNlmkngPb"
      },
      "source": [
        "# from data import main; main();\n",
        "#from train import main; main();      "
      ],
      "execution_count": 3,
      "outputs": []
    },
    {
      "cell_type": "code",
      "metadata": {
        "id": "TADUXeJgNcjV",
        "colab": {
          "base_uri": "https://localhost:8080/",
          "height": 1000
        },
        "outputId": "bbc9590a-97be-4d71-b781-bd851ce0b70e"
      },
      "source": [
        "from train import main\n",
        "from ext import now\n",
        "\n",
        "config.hm_epochs = 100\n",
        "config.ckp_per_ep = 25\n",
        "\n",
        "for state_size in [128,256,512]:\n",
        "  print(f'state size: {state_size}')\n",
        "  config.state_size = state_size\n",
        "\n",
        "  for hidden_size in [None]:#,128,256,512,1024]:\n",
        "    print(f'\\t hidden size: {hidden_size}')\n",
        "    if hidden_size: config.hidden_sizes = [hidden_size]\n",
        "\n",
        "    for learning_rate in [5e-3,2e-3,1e-3,5e-4,2e-4,1e-4,5e-5,2e-5,1e-5]:\n",
        "      print(f'\\t\\t learning rate: {learning_rate}')\n",
        "      config.learning_rate = learning_rate\n",
        "\n",
        "      config.model_path = f'drive/My Drive/WaveGen3/models/model{state_size},{hidden_size},{learning_rate}'\n",
        "\n",
        "      print(f'\\t\\t started @ {now()}')\n",
        "      main(disp_text=False)\n",
        "      print(f'\\t\\t initial loss:{config.all_losses[0]}, final loss:{config.all_losses[-1]}')\n",
        "\n",
        "      if config.all_losses[0] > config.all_losses[-1]: \n",
        "        break"
      ],
      "execution_count": 4,
      "outputs": [
        {
          "output_type": "stream",
          "text": [
            "state size: 128\n",
            "\t hidden size: None\n",
            "\t\t learning rate: 0.005\n",
            "\t\t started @ 17:21:14\n"
          ],
          "name": "stdout"
        },
        {
          "output_type": "display_data",
          "data": {
            "image/png": "[encoded data removed]",
            "text/plain": [
              "<Figure size 432x288 with 1 Axes>"
            ]
          },
          "metadata": {
            "tags": [],
            "needs_background": "light"
          }
        },
        {
          "output_type": "stream",
          "text": [
            "\t\t initial loss:183.28897705078126, final loss:21.571710205078126\n",
            "state size: 256\n",
            "\t hidden size: None\n",
            "\t\t learning rate: 0.005\n",
            "\t\t started @ 17:39:18\n"
          ],
          "name": "stdout"
        },
        {
          "output_type": "display_data",
          "data": {
            "image/png": "[encoded data removed]",
            "text/plain": [
              "<Figure size 432x288 with 1 Axes>"
            ]
          },
          "metadata": {
            "tags": [],
            "needs_background": "light"
          }
        },
        {
          "output_type": "stream",
          "text": [
            "\t\t initial loss:194.1310791015625, final loss:21.056655883789062\n",
            "state size: 512\n",
            "\t hidden size: None\n",
            "\t\t learning rate: 0.005\n",
            "\t\t started @ 17:57:17\n"
          ],
          "name": "stdout"
        },
        {
          "output_type": "display_data",
          "data": {
            "image/png": "[encoded data removed]",
            "text/plain": [
              "<Figure size 432x288 with 1 Axes>"
            ]
          },
          "metadata": {
            "tags": [],
            "needs_background": "light"
          }
        },
        {
          "output_type": "stream",
          "text": [
            "\t\t initial loss:212.46904296875, final loss:21.543916320800783\n"
          ],
          "name": "stdout"
        }
      ]
    },
    {
      "cell_type": "code",
      "metadata": {
        "id": "D1bx0uLlngXx"
      },
      "source": [
        "import os, glob\n",
        "config.model_path     = sorted(glob.glob('drive/My Drive/WaveGen3/models/*.pk'),key=os.path.getmtime)[-1][:-3]\n",
        "# config.model_path   = f'drive/My Drive/WaveGen3/models/model_ckp{config.hm_epochs-1}'\n",
        "config.output_file    = 'resp' # 'drive/My Drive/WaveGen3/resp'\n",
        "config.hm_output_file = 3\n",
        "config.hm_extra_steps = 100\n",
        "\n",
        "from interact import main; main();"
      ],
      "execution_count": 7,
      "outputs": []
    },
    {
      "cell_type": "code",
      "metadata": {
        "id": "m7n6fhn-ngfG"
      },
      "source": [
        "from data import load_data\n",
        "from model import load_model, respond_to\n",
        "\n",
        "d = load_data()\n",
        "m = load_model()\n",
        "respond_to(m,d)\n",
        "\n",
        "for m in m:\n",
        "  for l in m:\n",
        "    for k,v in l._asdict().items():\n",
        "      print(f'{k}, {v.requires_grad}, {(v.grad/len(d)).pow(2).sum()/(v.size(0)*v.size(1))}')"
      ],
      "execution_count": null,
      "outputs": []
    }
  ]
}